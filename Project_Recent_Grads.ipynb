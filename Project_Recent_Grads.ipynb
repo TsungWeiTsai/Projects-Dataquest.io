{
 "cells": [
  {
   "cell_type": "code",
   "execution_count": 2,
   "metadata": {
    "collapsed": true
   },
   "outputs": [],
   "source": [
    "import pandas as pd\n",
    "import matplotlib.pyplot as plt\n",
    "import seaborn\n",
    "%matplotlib inline"
   ]
  },
  {
   "cell_type": "code",
   "execution_count": 3,
   "metadata": {
    "collapsed": true
   },
   "outputs": [],
   "source": [
    "recent_grads = pd.read_csv('recent-grads.csv')"
   ]
  },
  {
   "cell_type": "code",
   "execution_count": 4,
   "metadata": {
    "collapsed": false
   },
   "outputs": [
    {
     "data": {
      "text/html": [
       "<div style=\"max-height:1000px;max-width:1500px;overflow:auto;\">\n",
       "<table border=\"1\" class=\"dataframe\">\n",
       "  <thead>\n",
       "    <tr style=\"text-align: right;\">\n",
       "      <th></th>\n",
       "      <th>Rank</th>\n",
       "      <th>Major_code</th>\n",
       "      <th>Major</th>\n",
       "      <th>Total</th>\n",
       "      <th>Men</th>\n",
       "      <th>Women</th>\n",
       "      <th>Major_category</th>\n",
       "      <th>ShareWomen</th>\n",
       "      <th>Sample_size</th>\n",
       "      <th>Employed</th>\n",
       "      <th>...</th>\n",
       "      <th>Part_time</th>\n",
       "      <th>Full_time_year_round</th>\n",
       "      <th>Unemployed</th>\n",
       "      <th>Unemployment_rate</th>\n",
       "      <th>Median</th>\n",
       "      <th>P25th</th>\n",
       "      <th>P75th</th>\n",
       "      <th>College_jobs</th>\n",
       "      <th>Non_college_jobs</th>\n",
       "      <th>Low_wage_jobs</th>\n",
       "    </tr>\n",
       "  </thead>\n",
       "  <tbody>\n",
       "    <tr>\n",
       "      <th>0</th>\n",
       "      <td> 1</td>\n",
       "      <td> 2419</td>\n",
       "      <td>          PETROLEUM ENGINEERING</td>\n",
       "      <td> 2339</td>\n",
       "      <td> 2057</td>\n",
       "      <td> 282</td>\n",
       "      <td> Engineering</td>\n",
       "      <td> 0.120564</td>\n",
       "      <td> 36</td>\n",
       "      <td> 1976</td>\n",
       "      <td>...</td>\n",
       "      <td> 270</td>\n",
       "      <td> 1207</td>\n",
       "      <td> 37</td>\n",
       "      <td> 0.018381</td>\n",
       "      <td> 110000</td>\n",
       "      <td> 95000</td>\n",
       "      <td> 125000</td>\n",
       "      <td> 1534</td>\n",
       "      <td> 364</td>\n",
       "      <td> 193</td>\n",
       "    </tr>\n",
       "    <tr>\n",
       "      <th>1</th>\n",
       "      <td> 2</td>\n",
       "      <td> 2416</td>\n",
       "      <td> MINING AND MINERAL ENGINEERING</td>\n",
       "      <td>  756</td>\n",
       "      <td>  679</td>\n",
       "      <td>  77</td>\n",
       "      <td> Engineering</td>\n",
       "      <td> 0.101852</td>\n",
       "      <td>  7</td>\n",
       "      <td>  640</td>\n",
       "      <td>...</td>\n",
       "      <td> 170</td>\n",
       "      <td>  388</td>\n",
       "      <td> 85</td>\n",
       "      <td> 0.117241</td>\n",
       "      <td>  75000</td>\n",
       "      <td> 55000</td>\n",
       "      <td>  90000</td>\n",
       "      <td>  350</td>\n",
       "      <td> 257</td>\n",
       "      <td>  50</td>\n",
       "    </tr>\n",
       "  </tbody>\n",
       "</table>\n",
       "<p>2 rows × 21 columns</p>\n",
       "</div>"
      ],
      "text/plain": [
       "   Rank  Major_code                           Major  Total   Men  Women  \\\n",
       "0     1        2419           PETROLEUM ENGINEERING   2339  2057    282   \n",
       "1     2        2416  MINING AND MINERAL ENGINEERING    756   679     77   \n",
       "\n",
       "  Major_category  ShareWomen  Sample_size  Employed      ...        Part_time  \\\n",
       "0    Engineering    0.120564           36      1976      ...              270   \n",
       "1    Engineering    0.101852            7       640      ...              170   \n",
       "\n",
       "   Full_time_year_round  Unemployed  Unemployment_rate  Median  P25th   P75th  \\\n",
       "0                  1207          37           0.018381  110000  95000  125000   \n",
       "1                   388          85           0.117241   75000  55000   90000   \n",
       "\n",
       "   College_jobs  Non_college_jobs  Low_wage_jobs  \n",
       "0          1534               364            193  \n",
       "1           350               257             50  \n",
       "\n",
       "[2 rows x 21 columns]"
      ]
     },
     "execution_count": 4,
     "metadata": {},
     "output_type": "execute_result"
    }
   ],
   "source": [
    "recent_grads.head(2)"
   ]
  },
  {
   "cell_type": "code",
   "execution_count": 5,
   "metadata": {
    "collapsed": false
   },
   "outputs": [
    {
     "data": {
      "text/html": [
       "<div style=\"max-height:1000px;max-width:1500px;overflow:auto;\">\n",
       "<table border=\"1\" class=\"dataframe\">\n",
       "  <thead>\n",
       "    <tr style=\"text-align: right;\">\n",
       "      <th></th>\n",
       "      <th>Rank</th>\n",
       "      <th>Major_code</th>\n",
       "      <th>Major</th>\n",
       "      <th>Total</th>\n",
       "      <th>Men</th>\n",
       "      <th>Women</th>\n",
       "      <th>Major_category</th>\n",
       "      <th>ShareWomen</th>\n",
       "      <th>Sample_size</th>\n",
       "      <th>Employed</th>\n",
       "      <th>...</th>\n",
       "      <th>Part_time</th>\n",
       "      <th>Full_time_year_round</th>\n",
       "      <th>Unemployed</th>\n",
       "      <th>Unemployment_rate</th>\n",
       "      <th>Median</th>\n",
       "      <th>P25th</th>\n",
       "      <th>P75th</th>\n",
       "      <th>College_jobs</th>\n",
       "      <th>Non_college_jobs</th>\n",
       "      <th>Low_wage_jobs</th>\n",
       "    </tr>\n",
       "  </thead>\n",
       "  <tbody>\n",
       "    <tr>\n",
       "      <th>172</th>\n",
       "      <td> 173</td>\n",
       "      <td> 3501</td>\n",
       "      <td> LIBRARY SCIENCE</td>\n",
       "      <td> 1098</td>\n",
       "      <td> 134</td>\n",
       "      <td> 964</td>\n",
       "      <td> Education</td>\n",
       "      <td> 0.87796</td>\n",
       "      <td> 2</td>\n",
       "      <td> 742</td>\n",
       "      <td>...</td>\n",
       "      <td> 237</td>\n",
       "      <td> 410</td>\n",
       "      <td> 87</td>\n",
       "      <td> 0.104946</td>\n",
       "      <td> 22000</td>\n",
       "      <td> 20000</td>\n",
       "      <td> 22000</td>\n",
       "      <td> 288</td>\n",
       "      <td> 338</td>\n",
       "      <td> 192</td>\n",
       "    </tr>\n",
       "  </tbody>\n",
       "</table>\n",
       "<p>1 rows × 21 columns</p>\n",
       "</div>"
      ],
      "text/plain": [
       "     Rank  Major_code            Major  Total  Men  Women Major_category  \\\n",
       "172   173        3501  LIBRARY SCIENCE   1098  134    964      Education   \n",
       "\n",
       "     ShareWomen  Sample_size  Employed      ...        Part_time  \\\n",
       "172     0.87796            2       742      ...              237   \n",
       "\n",
       "     Full_time_year_round  Unemployed  Unemployment_rate  Median  P25th  \\\n",
       "172                   410          87           0.104946   22000  20000   \n",
       "\n",
       "     P75th  College_jobs  Non_college_jobs  Low_wage_jobs  \n",
       "172  22000           288               338            192  \n",
       "\n",
       "[1 rows x 21 columns]"
      ]
     },
     "execution_count": 5,
     "metadata": {},
     "output_type": "execute_result"
    }
   ],
   "source": [
    "recent_grads.tail(1)"
   ]
  },
  {
   "cell_type": "code",
   "execution_count": 6,
   "metadata": {
    "collapsed": false,
    "scrolled": false
   },
   "outputs": [
    {
     "data": {
      "text/html": [
       "<div style=\"max-height:1000px;max-width:1500px;overflow:auto;\">\n",
       "<table border=\"1\" class=\"dataframe\">\n",
       "  <thead>\n",
       "    <tr style=\"text-align: right;\">\n",
       "      <th></th>\n",
       "      <th>Rank</th>\n",
       "      <th>Major_code</th>\n",
       "      <th>Total</th>\n",
       "      <th>Men</th>\n",
       "      <th>Women</th>\n",
       "      <th>ShareWomen</th>\n",
       "      <th>Sample_size</th>\n",
       "      <th>Employed</th>\n",
       "      <th>Full_time</th>\n",
       "      <th>Part_time</th>\n",
       "      <th>Full_time_year_round</th>\n",
       "      <th>Unemployed</th>\n",
       "      <th>Unemployment_rate</th>\n",
       "      <th>Median</th>\n",
       "      <th>P25th</th>\n",
       "      <th>P75th</th>\n",
       "      <th>College_jobs</th>\n",
       "      <th>Non_college_jobs</th>\n",
       "      <th>Low_wage_jobs</th>\n",
       "    </tr>\n",
       "  </thead>\n",
       "  <tbody>\n",
       "    <tr>\n",
       "      <th>count</th>\n",
       "      <td> 173.000000</td>\n",
       "      <td>  173.000000</td>\n",
       "      <td>    172.000000</td>\n",
       "      <td>    172.000000</td>\n",
       "      <td>    172.000000</td>\n",
       "      <td> 172.000000</td>\n",
       "      <td>  173.000000</td>\n",
       "      <td>    173.000000</td>\n",
       "      <td>    173.000000</td>\n",
       "      <td>    173.000000</td>\n",
       "      <td>    173.000000</td>\n",
       "      <td>   173.000000</td>\n",
       "      <td> 173.000000</td>\n",
       "      <td>    173.000000</td>\n",
       "      <td>   173.000000</td>\n",
       "      <td>    173.000000</td>\n",
       "      <td>    173.000000</td>\n",
       "      <td>    173.000000</td>\n",
       "      <td>   173.000000</td>\n",
       "    </tr>\n",
       "    <tr>\n",
       "      <th>mean</th>\n",
       "      <td>  87.000000</td>\n",
       "      <td> 3879.815029</td>\n",
       "      <td>  39370.081395</td>\n",
       "      <td>  16723.406977</td>\n",
       "      <td>  22646.674419</td>\n",
       "      <td>   0.522223</td>\n",
       "      <td>  356.080925</td>\n",
       "      <td>  31192.763006</td>\n",
       "      <td>  26029.306358</td>\n",
       "      <td>   8832.398844</td>\n",
       "      <td>  19694.427746</td>\n",
       "      <td>  2416.329480</td>\n",
       "      <td>   0.068191</td>\n",
       "      <td>  40151.445087</td>\n",
       "      <td> 29501.445087</td>\n",
       "      <td>  51494.219653</td>\n",
       "      <td>  12322.635838</td>\n",
       "      <td>  13284.497110</td>\n",
       "      <td>  3859.017341</td>\n",
       "    </tr>\n",
       "    <tr>\n",
       "      <th>std</th>\n",
       "      <td>  50.084928</td>\n",
       "      <td> 1687.753140</td>\n",
       "      <td>  63483.491009</td>\n",
       "      <td>  28122.433474</td>\n",
       "      <td>  41057.330740</td>\n",
       "      <td>   0.231205</td>\n",
       "      <td>  618.361022</td>\n",
       "      <td>  50675.002241</td>\n",
       "      <td>  42869.655092</td>\n",
       "      <td>  14648.179473</td>\n",
       "      <td>  33160.941514</td>\n",
       "      <td>  4112.803148</td>\n",
       "      <td>   0.030331</td>\n",
       "      <td>  11470.181802</td>\n",
       "      <td>  9166.005235</td>\n",
       "      <td>  14906.279740</td>\n",
       "      <td>  21299.868863</td>\n",
       "      <td>  23789.655363</td>\n",
       "      <td>  6944.998579</td>\n",
       "    </tr>\n",
       "    <tr>\n",
       "      <th>min</th>\n",
       "      <td>   1.000000</td>\n",
       "      <td> 1100.000000</td>\n",
       "      <td>    124.000000</td>\n",
       "      <td>    119.000000</td>\n",
       "      <td>      0.000000</td>\n",
       "      <td>   0.000000</td>\n",
       "      <td>    2.000000</td>\n",
       "      <td>      0.000000</td>\n",
       "      <td>    111.000000</td>\n",
       "      <td>      0.000000</td>\n",
       "      <td>    111.000000</td>\n",
       "      <td>     0.000000</td>\n",
       "      <td>   0.000000</td>\n",
       "      <td>  22000.000000</td>\n",
       "      <td> 18500.000000</td>\n",
       "      <td>  22000.000000</td>\n",
       "      <td>      0.000000</td>\n",
       "      <td>      0.000000</td>\n",
       "      <td>     0.000000</td>\n",
       "    </tr>\n",
       "    <tr>\n",
       "      <th>25%</th>\n",
       "      <td>  44.000000</td>\n",
       "      <td> 2403.000000</td>\n",
       "      <td>   4549.750000</td>\n",
       "      <td>   2177.500000</td>\n",
       "      <td>   1778.250000</td>\n",
       "      <td>   0.336026</td>\n",
       "      <td>   39.000000</td>\n",
       "      <td>   3608.000000</td>\n",
       "      <td>   3154.000000</td>\n",
       "      <td>   1030.000000</td>\n",
       "      <td>   2453.000000</td>\n",
       "      <td>   304.000000</td>\n",
       "      <td>   0.050306</td>\n",
       "      <td>  33000.000000</td>\n",
       "      <td> 24000.000000</td>\n",
       "      <td>  42000.000000</td>\n",
       "      <td>   1675.000000</td>\n",
       "      <td>   1591.000000</td>\n",
       "      <td>   340.000000</td>\n",
       "    </tr>\n",
       "    <tr>\n",
       "      <th>50%</th>\n",
       "      <td>  87.000000</td>\n",
       "      <td> 3608.000000</td>\n",
       "      <td>  15104.000000</td>\n",
       "      <td>   5434.000000</td>\n",
       "      <td>   8386.500000</td>\n",
       "      <td>   0.534024</td>\n",
       "      <td>  130.000000</td>\n",
       "      <td>  11797.000000</td>\n",
       "      <td>  10048.000000</td>\n",
       "      <td>   3299.000000</td>\n",
       "      <td>   7413.000000</td>\n",
       "      <td>   893.000000</td>\n",
       "      <td>   0.067961</td>\n",
       "      <td>  36000.000000</td>\n",
       "      <td> 27000.000000</td>\n",
       "      <td>  47000.000000</td>\n",
       "      <td>   4390.000000</td>\n",
       "      <td>   4595.000000</td>\n",
       "      <td>  1231.000000</td>\n",
       "    </tr>\n",
       "    <tr>\n",
       "      <th>75%</th>\n",
       "      <td> 130.000000</td>\n",
       "      <td> 5503.000000</td>\n",
       "      <td>  38909.750000</td>\n",
       "      <td>  14631.000000</td>\n",
       "      <td>  22553.750000</td>\n",
       "      <td>   0.703299</td>\n",
       "      <td>  338.000000</td>\n",
       "      <td>  31433.000000</td>\n",
       "      <td>  25147.000000</td>\n",
       "      <td>   9948.000000</td>\n",
       "      <td>  16891.000000</td>\n",
       "      <td>  2393.000000</td>\n",
       "      <td>   0.087557</td>\n",
       "      <td>  45000.000000</td>\n",
       "      <td> 33000.000000</td>\n",
       "      <td>  60000.000000</td>\n",
       "      <td>  14444.000000</td>\n",
       "      <td>  11783.000000</td>\n",
       "      <td>  3466.000000</td>\n",
       "    </tr>\n",
       "    <tr>\n",
       "      <th>max</th>\n",
       "      <td> 173.000000</td>\n",
       "      <td> 6403.000000</td>\n",
       "      <td> 393735.000000</td>\n",
       "      <td> 173809.000000</td>\n",
       "      <td> 307087.000000</td>\n",
       "      <td>   0.968954</td>\n",
       "      <td> 4212.000000</td>\n",
       "      <td> 307933.000000</td>\n",
       "      <td> 251540.000000</td>\n",
       "      <td> 115172.000000</td>\n",
       "      <td> 199897.000000</td>\n",
       "      <td> 28169.000000</td>\n",
       "      <td>   0.177226</td>\n",
       "      <td> 110000.000000</td>\n",
       "      <td> 95000.000000</td>\n",
       "      <td> 125000.000000</td>\n",
       "      <td> 151643.000000</td>\n",
       "      <td> 148395.000000</td>\n",
       "      <td> 48207.000000</td>\n",
       "    </tr>\n",
       "  </tbody>\n",
       "</table>\n",
       "</div>"
      ],
      "text/plain": [
       "             Rank   Major_code          Total            Men          Women  \\\n",
       "count  173.000000   173.000000     172.000000     172.000000     172.000000   \n",
       "mean    87.000000  3879.815029   39370.081395   16723.406977   22646.674419   \n",
       "std     50.084928  1687.753140   63483.491009   28122.433474   41057.330740   \n",
       "min      1.000000  1100.000000     124.000000     119.000000       0.000000   \n",
       "25%     44.000000  2403.000000    4549.750000    2177.500000    1778.250000   \n",
       "50%     87.000000  3608.000000   15104.000000    5434.000000    8386.500000   \n",
       "75%    130.000000  5503.000000   38909.750000   14631.000000   22553.750000   \n",
       "max    173.000000  6403.000000  393735.000000  173809.000000  307087.000000   \n",
       "\n",
       "       ShareWomen  Sample_size       Employed      Full_time      Part_time  \\\n",
       "count  172.000000   173.000000     173.000000     173.000000     173.000000   \n",
       "mean     0.522223   356.080925   31192.763006   26029.306358    8832.398844   \n",
       "std      0.231205   618.361022   50675.002241   42869.655092   14648.179473   \n",
       "min      0.000000     2.000000       0.000000     111.000000       0.000000   \n",
       "25%      0.336026    39.000000    3608.000000    3154.000000    1030.000000   \n",
       "50%      0.534024   130.000000   11797.000000   10048.000000    3299.000000   \n",
       "75%      0.703299   338.000000   31433.000000   25147.000000    9948.000000   \n",
       "max      0.968954  4212.000000  307933.000000  251540.000000  115172.000000   \n",
       "\n",
       "       Full_time_year_round    Unemployed  Unemployment_rate         Median  \\\n",
       "count            173.000000    173.000000         173.000000     173.000000   \n",
       "mean           19694.427746   2416.329480           0.068191   40151.445087   \n",
       "std            33160.941514   4112.803148           0.030331   11470.181802   \n",
       "min              111.000000      0.000000           0.000000   22000.000000   \n",
       "25%             2453.000000    304.000000           0.050306   33000.000000   \n",
       "50%             7413.000000    893.000000           0.067961   36000.000000   \n",
       "75%            16891.000000   2393.000000           0.087557   45000.000000   \n",
       "max           199897.000000  28169.000000           0.177226  110000.000000   \n",
       "\n",
       "              P25th          P75th   College_jobs  Non_college_jobs  \\\n",
       "count    173.000000     173.000000     173.000000        173.000000   \n",
       "mean   29501.445087   51494.219653   12322.635838      13284.497110   \n",
       "std     9166.005235   14906.279740   21299.868863      23789.655363   \n",
       "min    18500.000000   22000.000000       0.000000          0.000000   \n",
       "25%    24000.000000   42000.000000    1675.000000       1591.000000   \n",
       "50%    27000.000000   47000.000000    4390.000000       4595.000000   \n",
       "75%    33000.000000   60000.000000   14444.000000      11783.000000   \n",
       "max    95000.000000  125000.000000  151643.000000     148395.000000   \n",
       "\n",
       "       Low_wage_jobs  \n",
       "count     173.000000  \n",
       "mean     3859.017341  \n",
       "std      6944.998579  \n",
       "min         0.000000  \n",
       "25%       340.000000  \n",
       "50%      1231.000000  \n",
       "75%      3466.000000  \n",
       "max     48207.000000  "
      ]
     },
     "execution_count": 6,
     "metadata": {},
     "output_type": "execute_result"
    }
   ],
   "source": [
    "recent_grads.describe()"
   ]
  },
  {
   "cell_type": "code",
   "execution_count": 7,
   "metadata": {
    "collapsed": false
   },
   "outputs": [
    {
     "data": {
      "text/plain": [
       "(173, 21)"
      ]
     },
     "execution_count": 7,
     "metadata": {},
     "output_type": "execute_result"
    }
   ],
   "source": [
    "recent_grads.shape[0], recent_grads.shape[1]"
   ]
  },
  {
   "cell_type": "code",
   "execution_count": 8,
   "metadata": {
    "collapsed": false,
    "scrolled": true
   },
   "outputs": [],
   "source": [
    "recent_grads.dropna(inplace = True)"
   ]
  },
  {
   "cell_type": "code",
   "execution_count": 9,
   "metadata": {
    "collapsed": false
   },
   "outputs": [
    {
     "data": {
      "text/plain": [
       "(172, 21)"
      ]
     },
     "execution_count": 9,
     "metadata": {},
     "output_type": "execute_result"
    }
   ],
   "source": [
    "recent_grads.shape[0], recent_grads.shape[1]"
   ]
  },
  {
   "cell_type": "code",
   "execution_count": 16,
   "metadata": {
    "collapsed": false,
    "scrolled": true
   },
   "outputs": [
    {
     "data": {
      "image/png": "[encoded data removed]",
      "text/plain": [
       "<matplotlib.figure.Figure at 0x7f5d350fb588>"
      ]
     },
     "metadata": {},
     "output_type": "display_data"
    }
   ],
   "source": [
    "# First, we need to create a Figure instance and create 4 axes, corresponding to each subplot.\n",
    "fig_rg = plt.figure(figsize=(8,6))\n",
    "ax1_rg = fig_rg.add_subplot(2,2,1)\n",
    "ax2_rg = fig_rg.add_subplot(2,2,2)\n",
    "ax3_rg = fig_rg.add_subplot(2,2,3)\n",
    "ax4_rg = fig_rg.add_subplot(2,2,4)\n",
    "\n",
    "# Top left plot\n",
    "ax1_rg.hist(recent_grads[\"ShareWomen\"])\n",
    "# Top right plot\n",
    "ax2_rg.scatter(recent_grads[\"Unemployment_rate\"], recent_grads[\"ShareWomen\"])\n",
    "# Bottom left plot\n",
    "ax3_rg.scatter(recent_grads[\"ShareWomen\"], recent_grads[\"Unemployment_rate\"])\n",
    "# Bottom right plot\n",
    "ax4_rg.hist(recent_grads[\"Unemployment_rate\"])\n",
    "\n",
    "# Top left plot\n",
    "ax1_rg.set_ylabel(\"ShareWomen\")\n",
    "ax1_rg.get_xaxis().tick_top()\n",
    "ax1_rg.get_xaxis().set_visible(False)\n",
    "ax1_rg.get_yaxis().tick_left()\n",
    "ax1_rg.set_ylim(0,30)\n",
    "ax1_rg.set_yticklabels([0, 5, 10, 15, 20, 25, 30])\n",
    "\n",
    "# Top right plot\n",
    "ax2_rg.get_yaxis().set_visible(False)\n",
    "ax2_rg.get_xaxis().set_visible(False)\n",
    "ax2_rg.set_xlim(0.0, 0.20)\n",
    "\n",
    "# Bottom left plot\n",
    "ax3_rg.set_xlabel(\"ShareWomen\")\n",
    "ax3_rg.set_ylabel(\"Unemployment_rate\")\n",
    "ax3_rg.get_xaxis().tick_bottom()\n",
    "ax3_rg.get_yaxis().tick_left()\n",
    "ax3_rg.set_ylim(0.00, 0.20)\n",
    "ax3_rg.set_yticklabels([0.00, 0.05, 0.10, 0.15])\n",
    "ax3_rg.set_xlim(0.0, 1.0)\n",
    "ax3_rg.set_xticklabels([0.0, 0.2, 0.4, 0.6, 0.8], rotation=90)\n",
    "\n",
    "# Bottom right plot\n",
    "ax4_rg.set_xlabel(\"Unemployment_rate\")\n",
    "ax4_rg.get_yaxis().set_visible(False)\n",
    "ax4_rg.get_xaxis().tick_bottom()\n",
    "ax4_rg.set_xlim(0.0, 0.20)\n",
    "ax4_rg.set_xticklabels([0.00, 0.05, 0.10, 0.15, 0.20], rotation=90)\n",
    "\n",
    "# Remove space between sub plots.\n",
    "plt.subplots_adjust(wspace=0, hspace=0)\n",
    "plt.show()"
   ]
  },
  {
   "cell_type": "code",
   "execution_count": 11,
   "metadata": {
    "collapsed": false,
    "scrolled": true
   },
   "outputs": [
    {
     "name": "stdout",
     "output_type": "stream",
     "text": [
      "                                   Rank  Major_code   Total    Men  Women  \\\n",
      "Major                                                                       \n",
      "MISCELLANEOUS FINE ARTS              33        6099    3340   1970   1370   \n",
      "COMMERCIAL ART AND GRAPHIC DESIGN    96        6004  103480  32041  71439   \n",
      "FILM VIDEO AND PHOTOGRAPHIC ARTS    142        6005   38761  22357  16404   \n",
      "MUSIC                               147        6002   60633  29909  30724   \n",
      "FINE ARTS                           150        6000   74440  24786  49654   \n",
      "VISUAL AND PERFORMING ARTS          154        6003   16250   4133  12117   \n",
      "STUDIO ARTS                         160        6007   16977   4754  12223   \n",
      "DRAMA AND THEATER ARTS              167        6001   43249  14440  28809   \n",
      "\n",
      "                                  Major_category  ShareWomen  Sample_size  \\\n",
      "Major                                                                       \n",
      "MISCELLANEOUS FINE ARTS                     Arts    0.410180           30   \n",
      "COMMERCIAL ART AND GRAPHIC DESIGN           Arts    0.690365         1186   \n",
      "FILM VIDEO AND PHOTOGRAPHIC ARTS            Arts    0.423209          331   \n",
      "MUSIC                                       Arts    0.506721          419   \n",
      "FINE ARTS                                   Arts    0.667034          623   \n",
      "VISUAL AND PERFORMING ARTS                  Arts    0.745662          132   \n",
      "STUDIO ARTS                                 Arts    0.719974          182   \n",
      "DRAMA AND THEATER ARTS                      Arts    0.666119          357   \n",
      "\n",
      "                                   Employed  Full_time    ...     \\\n",
      "Major                                                     ...      \n",
      "MISCELLANEOUS FINE ARTS                2914       2049    ...      \n",
      "COMMERCIAL ART AND GRAPHIC DESIGN     83483      67448    ...      \n",
      "FILM VIDEO AND PHOTOGRAPHIC ARTS      31433      22457    ...      \n",
      "MUSIC                                 47662      29010    ...      \n",
      "FINE ARTS                             59679      42764    ...      \n",
      "VISUAL AND PERFORMING ARTS            12870       8447    ...      \n",
      "STUDIO ARTS                           13908      10451    ...      \n",
      "DRAMA AND THEATER ARTS                36165      25147    ...      \n",
      "\n",
      "                                   Full_time_year_round  Unemployed  \\\n",
      "Major                                                                 \n",
      "MISCELLANEOUS FINE ARTS                            1200         286   \n",
      "COMMERCIAL ART AND GRAPHIC DESIGN                 52243        8947   \n",
      "FILM VIDEO AND PHOTOGRAPHIC ARTS                  15740        3718   \n",
      "MUSIC                                             21425        3918   \n",
      "FINE ARTS                                         31877        5486   \n",
      "VISUAL AND PERFORMING ARTS                         6322        1465   \n",
      "STUDIO ARTS                                        7413        1368   \n",
      "DRAMA AND THEATER ARTS                            16891        3040   \n",
      "\n",
      "                                   Unemployment_rate  Median  P25th  P75th  \\\n",
      "Major                                                                        \n",
      "MISCELLANEOUS FINE ARTS                     0.089375   50000  25000  66000   \n",
      "COMMERCIAL ART AND GRAPHIC DESIGN           0.096798   35000  25000  45000   \n",
      "FILM VIDEO AND PHOTOGRAPHIC ARTS            0.105772   32000  22000  42000   \n",
      "MUSIC                                       0.075960   31000  22300  42000   \n",
      "FINE ARTS                                   0.084186   30500  21000  41000   \n",
      "VISUAL AND PERFORMING ARTS                  0.102197   30000  22000  40000   \n",
      "STUDIO ARTS                                 0.089552   29000  19200  38300   \n",
      "DRAMA AND THEATER ARTS                      0.077541   27000  19200  35000   \n",
      "\n",
      "                                   College_jobs  Non_college_jobs  \\\n",
      "Major                                                               \n",
      "MISCELLANEOUS FINE ARTS                     693              1714   \n",
      "COMMERCIAL ART AND GRAPHIC DESIGN         37389             38119   \n",
      "FILM VIDEO AND PHOTOGRAPHIC ARTS           7368             20721   \n",
      "MUSIC                                     13752             28786   \n",
      "FINE ARTS                                 20792             32725   \n",
      "VISUAL AND PERFORMING ARTS                 3849              7635   \n",
      "STUDIO ARTS                                3948              8707   \n",
      "DRAMA AND THEATER ARTS                     6994             25313   \n",
      "\n",
      "                                   Low_wage_jobs  ShareMen  \n",
      "Major                                                       \n",
      "MISCELLANEOUS FINE ARTS                      755  0.589820  \n",
      "COMMERCIAL ART AND GRAPHIC DESIGN          14839  0.309635  \n",
      "FILM VIDEO AND PHOTOGRAPHIC ARTS            5862  0.576791  \n",
      "MUSIC                                       9286  0.493279  \n",
      "FINE ARTS                                  11880  0.332966  \n",
      "VISUAL AND PERFORMING ARTS                  2840  0.254338  \n",
      "STUDIO ARTS                                 3586  0.280026  \n",
      "DRAMA AND THEATER ARTS                     11068  0.333881  \n",
      "\n",
      "[8 rows x 21 columns]\n"
     ]
    },
    {
     "data": {
      "image/png": "[encoded data removed]",
      "text/plain": [
       "<matplotlib.figure.Figure at 0x7f5d3570b828>"
      ]
     },
     "metadata": {},
     "output_type": "display_data"
    }
   ],
   "source": [
    "recent_grads['ShareMen'] = recent_grads['Men'] / recent_grads['Total']\n",
    "recent_grads['ShareMen'].dtypes\n",
    "arts = recent_grads[recent_grads[\"Major_category\"] == \"Arts\"]\n",
    "arts.set_index(\"Major\", inplace=True)\n",
    "arts[[\"ShareMen\", \"ShareWomen\"]].plot(kind=\"bar\")\n",
    "\n",
    "print(arts)"
   ]
  },
  {
   "cell_type": "code",
   "execution_count": 13,
   "metadata": {
    "collapsed": false
   },
   "outputs": [
    {
     "data": {
      "text/plain": [
       "<matplotlib.axes._subplots.AxesSubplot at 0x7f5d35473ac8>"
      ]
     },
     "execution_count": 13,
     "metadata": {},
     "output_type": "execute_result"
    },
    {
     "data": {
      "image/png": "[encoded data removed]",
      "text/plain": [
       "<matplotlib.figure.Figure at 0x7f5d354842b0>"
      ]
     },
     "metadata": {},
     "output_type": "display_data"
    }
   ],
   "source": [
    "arts = recent_grads[recent_grads[\"Major_category\"] == \"Arts\"]\n",
    "arts.set_index(\"Major\", inplace=True)\n",
    "arts[[\"ShareMen\", \"ShareWomen\"]].plot(kind=\"bar\")"
   ]
  },
  {
   "cell_type": "code",
   "execution_count": 12,
   "metadata": {
    "collapsed": false,
    "scrolled": false
   },
   "outputs": [
    {
     "data": {
      "image/png": "[encoded data removed]",
      "text/plain": [
       "<matplotlib.figure.Figure at 0x7f5d3556e278>"
      ]
     },
     "metadata": {},
     "output_type": "display_data"
    }
   ],
   "source": [
    "import numpy as np\n",
    "\n",
    "fig2 = plt.figure(figsize = (8, 8))\n",
    "ax2 = fig2.add_subplot(1, 1, 1)\n",
    "ax2.set_xticklabels(arts.index.tolist(), rotation = 90)\n",
    "\n",
    "locs = np.arange(8)\n",
    "bar_1 = plt.bar(left = locs, height = arts['ShareMen'].tolist(), width = 0.35)"
   ]
  },
  {
   "cell_type": "code",
   "execution_count": null,
   "metadata": {
    "collapsed": true
   },
   "outputs": [],
   "source": []
  }
 ],
 "metadata": {
  "kernelspec": {
   "display_name": "Python 3",
   "language": "python",
   "name": "python3"
  },
  "language_info": {
   "codemirror_mode": {
    "name": "ipython",
    "version": 3
   },
   "file_extension": ".py",
   "mimetype": "text/x-python",
   "name": "python",
   "nbconvert_exporter": "python",
   "pygments_lexer": "ipython3",
   "version": "3.4.3"
  }
 },
 "nbformat": 4,
 "nbformat_minor": 0
}
